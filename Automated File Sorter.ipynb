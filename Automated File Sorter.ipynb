{
 "cells": [
  {
   "cell_type": "markdown",
   "id": "a52fb66b",
   "metadata": {},
   "source": [
    "AUTOMATED FILE SORTER"
   ]
  },
  {
   "cell_type": "code",
   "execution_count": 23,
   "id": "d3f5c416",
   "metadata": {},
   "outputs": [],
   "source": [
    "import os, shutil"
   ]
  },
  {
   "cell_type": "code",
   "execution_count": 24,
   "id": "aa82f18a",
   "metadata": {},
   "outputs": [],
   "source": [
    "path = r\"C:/Users/Mzimkhulu/Documents/Python Scripts/\""
   ]
  },
  {
   "cell_type": "code",
   "execution_count": 25,
   "id": "d7d0d5f5",
   "metadata": {},
   "outputs": [],
   "source": [
    "file_name = os.listdir(path)"
   ]
  },
  {
   "cell_type": "code",
   "execution_count": 27,
   "id": "796e908e",
   "metadata": {},
   "outputs": [],
   "source": [
    "folder_names = ['html files', 'image files', 'excel files', 'text files']\n",
    "\n",
    "for loop in range(0,4):\n",
    "   if not os.path.exists(path + folder_names[loop]):\n",
    "      #print(path + folder_names[loop])\n",
    "      os.makedirs(path + folder_names[loop])\n",
    "\n",
    "for file in file_name:\n",
    "    #move different file names to their respective folder names\n",
    "    if \".htm\" in file and not os.path.exists(path + \"html files/\" + file):\n",
    "        shutil.move(path + file, path + \"html files/\" + file)\n",
    "    elif \".png\" in file and not os.path.exists(path + \"image files/\" + file):\n",
    "        shutil.move(path + file, path + \"image files/\" + file)\n",
    "    elif \".log\" in file and not os.path.exists(path + \"text files/\" + file):\n",
    "        shutil.move(path + file, path + \"text files/\" + file)\n",
    "    elif \".xlsx\" in file and not os.path.exists(path + \"excel files/\" + file):\n",
    "        shutil.move(path + file, path + \"excel files/\" + file)"
   ]
  },
  {
   "cell_type": "code",
   "execution_count": null,
   "id": "79579cdc",
   "metadata": {},
   "outputs": [],
   "source": []
  },
  {
   "cell_type": "code",
   "execution_count": null,
   "id": "3153f226",
   "metadata": {},
   "outputs": [],
   "source": []
  },
  {
   "cell_type": "code",
   "execution_count": 20,
   "id": "f6196795",
   "metadata": {},
   "outputs": [
    {
     "data": {
      "text/plain": [
       "['download (1).htm',\n",
       " 'download (10).htm',\n",
       " 'download (2).htm',\n",
       " 'download.htm',\n",
       " 'excel files',\n",
       " 'full stack developer.png',\n",
       " 'html files',\n",
       " 'image files',\n",
       " 'LogoMakr-9cUDQs.png',\n",
       " 'text files',\n",
       " 'Unit 2_ Accounting Templates_ - Copy.xlsx',\n",
       " 'Unit 2_ Accounting Templates_.xlsx',\n",
       " 'zopener_8a4800ea0a3f43f4bafd7706c1a4e7ee.log']"
      ]
     },
     "execution_count": 20,
     "metadata": {},
     "output_type": "execute_result"
    }
   ],
   "source": [
    "#os.listdir(path)"
   ]
  },
  {
   "cell_type": "code",
   "execution_count": null,
   "id": "8d4c746b",
   "metadata": {},
   "outputs": [],
   "source": []
  },
  {
   "cell_type": "code",
   "execution_count": null,
   "id": "db394f8b",
   "metadata": {},
   "outputs": [],
   "source": []
  },
  {
   "cell_type": "code",
   "execution_count": null,
   "id": "a9215565",
   "metadata": {},
   "outputs": [],
   "source": []
  }
 ],
 "metadata": {
  "kernelspec": {
   "display_name": "Python 3 (ipykernel)",
   "language": "python",
   "name": "python3"
  },
  "language_info": {
   "codemirror_mode": {
    "name": "ipython",
    "version": 3
   },
   "file_extension": ".py",
   "mimetype": "text/x-python",
   "name": "python",
   "nbconvert_exporter": "python",
   "pygments_lexer": "ipython3",
   "version": "3.9.12"
  }
 },
 "nbformat": 4,
 "nbformat_minor": 5
}
